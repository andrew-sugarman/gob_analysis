{
 "cells": [
  {
   "cell_type": "code",
   "execution_count": 2,
   "metadata": {},
   "outputs": [
    {
     "data": {
      "text/html": [
       "<div>\n",
       "<style scoped>\n",
       "    .dataframe tbody tr th:only-of-type {\n",
       "        vertical-align: middle;\n",
       "    }\n",
       "\n",
       "    .dataframe tbody tr th {\n",
       "        vertical-align: top;\n",
       "    }\n",
       "\n",
       "    .dataframe thead th {\n",
       "        text-align: right;\n",
       "    }\n",
       "</style>\n",
       "<table border=\"1\" class=\"dataframe\">\n",
       "  <thead>\n",
       "    <tr style=\"text-align: right;\">\n",
       "      <th></th>\n",
       "      <th>Label</th>\n",
       "      <th>Volume</th>\n",
       "      <th>Elongation</th>\n",
       "      <th>Flatness</th>\n",
       "      <th>Radius</th>\n",
       "      <th>CentroidX</th>\n",
       "      <th>CentroidY</th>\n",
       "      <th>CentroidZ</th>\n",
       "      <th>IntensitySkewness</th>\n",
       "      <th>IntensityMean</th>\n",
       "      <th>IntensitySTD</th>\n",
       "      <th>Axis1length</th>\n",
       "      <th>Axis2length</th>\n",
       "      <th>Axis3length</th>\n",
       "    </tr>\n",
       "  </thead>\n",
       "  <tbody>\n",
       "    <tr>\n",
       "      <th>0</th>\n",
       "      <td>300</td>\n",
       "      <td>178</td>\n",
       "      <td>1.032102</td>\n",
       "      <td>2.487303</td>\n",
       "      <td>3.489612</td>\n",
       "      <td>19.393258</td>\n",
       "      <td>41.129213</td>\n",
       "      <td>46.803371</td>\n",
       "      <td>0</td>\n",
       "      <td>300</td>\n",
       "      <td>0</td>\n",
       "      <td>3.761956</td>\n",
       "      <td>9.357126</td>\n",
       "      <td>9.657510</td>\n",
       "    </tr>\n",
       "    <tr>\n",
       "      <th>1</th>\n",
       "      <td>8</td>\n",
       "      <td>470</td>\n",
       "      <td>1.659019</td>\n",
       "      <td>2.614933</td>\n",
       "      <td>4.823213</td>\n",
       "      <td>38.189362</td>\n",
       "      <td>72.365957</td>\n",
       "      <td>47.138298</td>\n",
       "      <td>0</td>\n",
       "      <td>8</td>\n",
       "      <td>0</td>\n",
       "      <td>4.293145</td>\n",
       "      <td>11.226287</td>\n",
       "      <td>18.624627</td>\n",
       "    </tr>\n",
       "    <tr>\n",
       "      <th>2</th>\n",
       "      <td>9</td>\n",
       "      <td>556</td>\n",
       "      <td>1.745132</td>\n",
       "      <td>2.460063</td>\n",
       "      <td>5.101079</td>\n",
       "      <td>30.796763</td>\n",
       "      <td>74.516187</td>\n",
       "      <td>49.052158</td>\n",
       "      <td>0</td>\n",
       "      <td>9</td>\n",
       "      <td>0</td>\n",
       "      <td>4.649987</td>\n",
       "      <td>11.439262</td>\n",
       "      <td>19.963026</td>\n",
       "    </tr>\n",
       "    <tr>\n",
       "      <th>3</th>\n",
       "      <td>10</td>\n",
       "      <td>347</td>\n",
       "      <td>1.743334</td>\n",
       "      <td>2.339427</td>\n",
       "      <td>4.359269</td>\n",
       "      <td>18.521614</td>\n",
       "      <td>83.731988</td>\n",
       "      <td>50.005764</td>\n",
       "      <td>0</td>\n",
       "      <td>10</td>\n",
       "      <td>0</td>\n",
       "      <td>4.110649</td>\n",
       "      <td>9.616563</td>\n",
       "      <td>16.764885</td>\n",
       "    </tr>\n",
       "    <tr>\n",
       "      <th>4</th>\n",
       "      <td>11</td>\n",
       "      <td>385</td>\n",
       "      <td>1.480456</td>\n",
       "      <td>2.322900</td>\n",
       "      <td>4.512917</td>\n",
       "      <td>11.410390</td>\n",
       "      <td>66.896104</td>\n",
       "      <td>51.833766</td>\n",
       "      <td>0</td>\n",
       "      <td>11</td>\n",
       "      <td>0</td>\n",
       "      <td>4.515112</td>\n",
       "      <td>10.488153</td>\n",
       "      <td>15.527251</td>\n",
       "    </tr>\n",
       "  </tbody>\n",
       "</table>\n",
       "</div>"
      ],
      "text/plain": [
       "   Label  Volume  Elongation  Flatness    Radius  CentroidX  CentroidY  \\\n",
       "0    300     178    1.032102  2.487303  3.489612  19.393258  41.129213   \n",
       "1      8     470    1.659019  2.614933  4.823213  38.189362  72.365957   \n",
       "2      9     556    1.745132  2.460063  5.101079  30.796763  74.516187   \n",
       "3     10     347    1.743334  2.339427  4.359269  18.521614  83.731988   \n",
       "4     11     385    1.480456  2.322900  4.512917  11.410390  66.896104   \n",
       "\n",
       "   CentroidZ  IntensitySkewness   IntensityMean   IntensitySTD   Axis1length  \\\n",
       "0  46.803371                  0             300              0      3.761956   \n",
       "1  47.138298                  0               8              0      4.293145   \n",
       "2  49.052158                  0               9              0      4.649987   \n",
       "3  50.005764                  0              10              0      4.110649   \n",
       "4  51.833766                  0              11              0      4.515112   \n",
       "\n",
       "    Axis2length   Axis3length  \n",
       "0      9.357126      9.657510  \n",
       "1     11.226287     18.624627  \n",
       "2     11.439262     19.963026  \n",
       "3      9.616563     16.764885  \n",
       "4     10.488153     15.527251  "
      ]
     },
     "execution_count": 2,
     "metadata": {},
     "output_type": "execute_result"
    }
   ],
   "source": [
    "# import packages\n",
    "import math\n",
    "import pandas as pd\n",
    "import numpy as np\n",
    "from scipy import linalg\n",
    "import scipy\n",
    "from scipy.stats import binom, norm\n",
    "import matplotlib.pyplot as plt\n",
    "import seaborn as sns\n",
    "# import sklearn.ensemble\n",
    "from sklearn.ensemble import RandomForestRegressor\n",
    "from sklearn.datasets import make_regression\n",
    "from sklearn.linear_model import ARDRegression, LinearRegression, BayesianRidge\n",
    "from sklearn.model_selection import train_test_split\n",
    "# for classical conf int\n",
    "from scipy import stats\n",
    "# load data -- from GOB \n",
    "df = pd.read_csv(\"5dpf_WT_Attributes.csv\")\n",
    "df2 = pd.read_csv(\"5dpf_hht_Attributes_1-1750.csv\")\n",
    "heart_manual = pd.read_csv(\"5dpf_Region1_Attributes_Manual.csv\")\n",
    "heart_auto = pd.read_csv(\"5dpf_Region1_Attributes_Automated.csv\")\n",
    "aorta_manual = pd.read_csv(\"5dpf_Region2_Attributes_Manual.csv\")\n",
    "aorta_auto = pd.read_csv(\"5dpf_Region2_Attributes_Automated.csv\")\n",
    "# pandas sauce to make master gold standard set\n",
    "goldstud = pd.concat([heart_manual, aorta_manual], ignore_index=True)\n",
    "automaster = pd.concat([heart_auto, aorta_auto], ignore_index=True)\n",
    "goldstud.head()"
   ]
  },
  {
   "cell_type": "code",
   "execution_count": 13,
   "metadata": {},
   "outputs": [
    {
     "name": "stdout",
     "output_type": "stream",
     "text": [
      "Naive mean:  238.94750528197628\n",
      "Confidence interval for the naive mean is:  (236.98754129743622, 240.90746926651633)\n",
      "Mean of Gold Standard Set:  285.96894409937886\n",
      "Confidence interval for the gold standard mean is:  (284.0089801148388, 287.92890808391894)\n",
      "PPI mean estimate:  270.2332195676906\n",
      "The prediction powered inference interval for the mean is:  253.1976569646246 to  287.26878217075654\n"
     ]
    }
   ],
   "source": [
    "# define variables for the GOB dataset\n",
    "y_lab = goldstud['Volume']\n",
    "yhat_lab = automaster['Volume']\n",
    "yhat_unlab = df['Volume']\n",
    "naivemean = df['Volume'].mean()\n",
    "print(\"Naive mean: \", naivemean)\n",
    "classical_goldstdonly = y_lab.mean()\n",
    "classical = yhat_unlab.mean()\n",
    "# classical_interval = st.norm.interval(alpha=0.95, loc=classical, scale=st.sem(data)) \n",
    "confint = stats.norm.interval(confidence=0.95,loc=df['Volume'].mean())\n",
    "confint_goldstud = stats.norm.interval(confidence=0.95,loc=goldstud['Volume'].mean())\n",
    "print(\"Confidence interval for the naive mean is: \", confint)\n",
    "#\n",
    "error_class = (y_lab - yhat_lab).mean()\n",
    "print(\"Mean of Gold Standard Set: \", classical_goldstdonly)\n",
    "print(\"Confidence interval for the gold standard mean is: \", confint_goldstud)\n",
    "# \n",
    "n = y_lab.shape[0] # stores length of labeled y as n\n",
    "N = yhat_unlab.shape[0] # stores length of unlabeled y as N\n",
    "alpha = 0.05\n",
    "def calcmean(y_lab, yhat_lab, yhat_unlab):\n",
    "    theta_pp = classical - error_class\n",
    "    return(theta_pp)\n",
    "\n",
    "theta_pp_point = calcmean(y_lab, yhat_lab, yhat_unlab)\n",
    "# print(\"Classical mean estimate: \", classical)\n",
    "print(\"PPI mean estimate: \", theta_pp_point)\n",
    "testval = []\n",
    "for i in yhat_unlab:\n",
    "    xa = (i - classical)**2\n",
    "    testval = np.append(testval, xa)\n",
    "# empirical variance\n",
    "step2 = testval.mean()\n",
    "\n",
    "# step 3 of algorithm 1\n",
    "# variance of rectifier\n",
    "testval2 = []\n",
    "for i in yhat_lab:\n",
    "    xb = (i - classical - error_class)**2\n",
    "    testval2 = np.append(testval2, xb)\n",
    "step3 = testval2.mean()\n",
    "#\n",
    "\n",
    "# step 4 algorithm 1\n",
    "xc = math.sqrt((step2 / N)+(step3 / n))\n",
    "step4 = (norm.ppf(1-alpha/2) * xc)\n",
    "lowbound = (theta_pp_point - step4)\n",
    "upbound = (theta_pp_point + step4)\n",
    "print(\"The prediction powered inference interval for the mean is: \", lowbound, \"to \", upbound)\n"
   ]
  },
  {
   "cell_type": "code",
   "execution_count": 51,
   "metadata": {},
   "outputs": [],
   "source": [
    "widthgold = classical_goldstdonly - confint_goldstud[0]\n",
    "widthnaive = naivemean - confint[0]\n",
    "widthppi = theta_pp_point - lowbound"
   ]
  },
  {
   "cell_type": "code",
   "execution_count": 52,
   "metadata": {},
   "outputs": [
    {
     "data": {
      "application/vnd.plotly.v1+json": {
       "config": {
        "plotlyServerURL": "https://plot.ly"
       },
       "data": [
        {
         "error_y": {
          "array": [
           1.9599639845400816,
           1.9599639845400532,
           17.035562603065983
          ],
          "type": "data"
         },
         "name": "Mean",
         "type": "bar",
         "x": [
          "Gold Standard Mean",
          "Imputed/Naive Mean",
          "Prediction-Powered Mean"
         ],
         "y": [
          285.96894409937886,
          238.94750528197628,
          270.2332195676906
         ]
        }
       ],
       "layout": {
        "template": {
         "data": {
          "bar": [
           {
            "error_x": {
             "color": "#2a3f5f"
            },
            "error_y": {
             "color": "#2a3f5f"
            },
            "marker": {
             "line": {
              "color": "#E5ECF6",
              "width": 0.5
             },
             "pattern": {
              "fillmode": "overlay",
              "size": 10,
              "solidity": 0.2
             }
            },
            "type": "bar"
           }
          ],
          "barpolar": [
           {
            "marker": {
             "line": {
              "color": "#E5ECF6",
              "width": 0.5
             },
             "pattern": {
              "fillmode": "overlay",
              "size": 10,
              "solidity": 0.2
             }
            },
            "type": "barpolar"
           }
          ],
          "carpet": [
           {
            "aaxis": {
             "endlinecolor": "#2a3f5f",
             "gridcolor": "white",
             "linecolor": "white",
             "minorgridcolor": "white",
             "startlinecolor": "#2a3f5f"
            },
            "baxis": {
             "endlinecolor": "#2a3f5f",
             "gridcolor": "white",
             "linecolor": "white",
             "minorgridcolor": "white",
             "startlinecolor": "#2a3f5f"
            },
            "type": "carpet"
           }
          ],
          "choropleth": [
           {
            "colorbar": {
             "outlinewidth": 0,
             "ticks": ""
            },
            "type": "choropleth"
           }
          ],
          "contour": [
           {
            "colorbar": {
             "outlinewidth": 0,
             "ticks": ""
            },
            "colorscale": [
             [
              0,
              "#0d0887"
             ],
             [
              0.1111111111111111,
              "#46039f"
             ],
             [
              0.2222222222222222,
              "#7201a8"
             ],
             [
              0.3333333333333333,
              "#9c179e"
             ],
             [
              0.4444444444444444,
              "#bd3786"
             ],
             [
              0.5555555555555556,
              "#d8576b"
             ],
             [
              0.6666666666666666,
              "#ed7953"
             ],
             [
              0.7777777777777778,
              "#fb9f3a"
             ],
             [
              0.8888888888888888,
              "#fdca26"
             ],
             [
              1,
              "#f0f921"
             ]
            ],
            "type": "contour"
           }
          ],
          "contourcarpet": [
           {
            "colorbar": {
             "outlinewidth": 0,
             "ticks": ""
            },
            "type": "contourcarpet"
           }
          ],
          "heatmap": [
           {
            "colorbar": {
             "outlinewidth": 0,
             "ticks": ""
            },
            "colorscale": [
             [
              0,
              "#0d0887"
             ],
             [
              0.1111111111111111,
              "#46039f"
             ],
             [
              0.2222222222222222,
              "#7201a8"
             ],
             [
              0.3333333333333333,
              "#9c179e"
             ],
             [
              0.4444444444444444,
              "#bd3786"
             ],
             [
              0.5555555555555556,
              "#d8576b"
             ],
             [
              0.6666666666666666,
              "#ed7953"
             ],
             [
              0.7777777777777778,
              "#fb9f3a"
             ],
             [
              0.8888888888888888,
              "#fdca26"
             ],
             [
              1,
              "#f0f921"
             ]
            ],
            "type": "heatmap"
           }
          ],
          "heatmapgl": [
           {
            "colorbar": {
             "outlinewidth": 0,
             "ticks": ""
            },
            "colorscale": [
             [
              0,
              "#0d0887"
             ],
             [
              0.1111111111111111,
              "#46039f"
             ],
             [
              0.2222222222222222,
              "#7201a8"
             ],
             [
              0.3333333333333333,
              "#9c179e"
             ],
             [
              0.4444444444444444,
              "#bd3786"
             ],
             [
              0.5555555555555556,
              "#d8576b"
             ],
             [
              0.6666666666666666,
              "#ed7953"
             ],
             [
              0.7777777777777778,
              "#fb9f3a"
             ],
             [
              0.8888888888888888,
              "#fdca26"
             ],
             [
              1,
              "#f0f921"
             ]
            ],
            "type": "heatmapgl"
           }
          ],
          "histogram": [
           {
            "marker": {
             "pattern": {
              "fillmode": "overlay",
              "size": 10,
              "solidity": 0.2
             }
            },
            "type": "histogram"
           }
          ],
          "histogram2d": [
           {
            "colorbar": {
             "outlinewidth": 0,
             "ticks": ""
            },
            "colorscale": [
             [
              0,
              "#0d0887"
             ],
             [
              0.1111111111111111,
              "#46039f"
             ],
             [
              0.2222222222222222,
              "#7201a8"
             ],
             [
              0.3333333333333333,
              "#9c179e"
             ],
             [
              0.4444444444444444,
              "#bd3786"
             ],
             [
              0.5555555555555556,
              "#d8576b"
             ],
             [
              0.6666666666666666,
              "#ed7953"
             ],
             [
              0.7777777777777778,
              "#fb9f3a"
             ],
             [
              0.8888888888888888,
              "#fdca26"
             ],
             [
              1,
              "#f0f921"
             ]
            ],
            "type": "histogram2d"
           }
          ],
          "histogram2dcontour": [
           {
            "colorbar": {
             "outlinewidth": 0,
             "ticks": ""
            },
            "colorscale": [
             [
              0,
              "#0d0887"
             ],
             [
              0.1111111111111111,
              "#46039f"
             ],
             [
              0.2222222222222222,
              "#7201a8"
             ],
             [
              0.3333333333333333,
              "#9c179e"
             ],
             [
              0.4444444444444444,
              "#bd3786"
             ],
             [
              0.5555555555555556,
              "#d8576b"
             ],
             [
              0.6666666666666666,
              "#ed7953"
             ],
             [
              0.7777777777777778,
              "#fb9f3a"
             ],
             [
              0.8888888888888888,
              "#fdca26"
             ],
             [
              1,
              "#f0f921"
             ]
            ],
            "type": "histogram2dcontour"
           }
          ],
          "mesh3d": [
           {
            "colorbar": {
             "outlinewidth": 0,
             "ticks": ""
            },
            "type": "mesh3d"
           }
          ],
          "parcoords": [
           {
            "line": {
             "colorbar": {
              "outlinewidth": 0,
              "ticks": ""
             }
            },
            "type": "parcoords"
           }
          ],
          "pie": [
           {
            "automargin": true,
            "type": "pie"
           }
          ],
          "scatter": [
           {
            "fillpattern": {
             "fillmode": "overlay",
             "size": 10,
             "solidity": 0.2
            },
            "type": "scatter"
           }
          ],
          "scatter3d": [
           {
            "line": {
             "colorbar": {
              "outlinewidth": 0,
              "ticks": ""
             }
            },
            "marker": {
             "colorbar": {
              "outlinewidth": 0,
              "ticks": ""
             }
            },
            "type": "scatter3d"
           }
          ],
          "scattercarpet": [
           {
            "marker": {
             "colorbar": {
              "outlinewidth": 0,
              "ticks": ""
             }
            },
            "type": "scattercarpet"
           }
          ],
          "scattergeo": [
           {
            "marker": {
             "colorbar": {
              "outlinewidth": 0,
              "ticks": ""
             }
            },
            "type": "scattergeo"
           }
          ],
          "scattergl": [
           {
            "marker": {
             "colorbar": {
              "outlinewidth": 0,
              "ticks": ""
             }
            },
            "type": "scattergl"
           }
          ],
          "scattermapbox": [
           {
            "marker": {
             "colorbar": {
              "outlinewidth": 0,
              "ticks": ""
             }
            },
            "type": "scattermapbox"
           }
          ],
          "scatterpolar": [
           {
            "marker": {
             "colorbar": {
              "outlinewidth": 0,
              "ticks": ""
             }
            },
            "type": "scatterpolar"
           }
          ],
          "scatterpolargl": [
           {
            "marker": {
             "colorbar": {
              "outlinewidth": 0,
              "ticks": ""
             }
            },
            "type": "scatterpolargl"
           }
          ],
          "scatterternary": [
           {
            "marker": {
             "colorbar": {
              "outlinewidth": 0,
              "ticks": ""
             }
            },
            "type": "scatterternary"
           }
          ],
          "surface": [
           {
            "colorbar": {
             "outlinewidth": 0,
             "ticks": ""
            },
            "colorscale": [
             [
              0,
              "#0d0887"
             ],
             [
              0.1111111111111111,
              "#46039f"
             ],
             [
              0.2222222222222222,
              "#7201a8"
             ],
             [
              0.3333333333333333,
              "#9c179e"
             ],
             [
              0.4444444444444444,
              "#bd3786"
             ],
             [
              0.5555555555555556,
              "#d8576b"
             ],
             [
              0.6666666666666666,
              "#ed7953"
             ],
             [
              0.7777777777777778,
              "#fb9f3a"
             ],
             [
              0.8888888888888888,
              "#fdca26"
             ],
             [
              1,
              "#f0f921"
             ]
            ],
            "type": "surface"
           }
          ],
          "table": [
           {
            "cells": {
             "fill": {
              "color": "#EBF0F8"
             },
             "line": {
              "color": "white"
             }
            },
            "header": {
             "fill": {
              "color": "#C8D4E3"
             },
             "line": {
              "color": "white"
             }
            },
            "type": "table"
           }
          ]
         },
         "layout": {
          "annotationdefaults": {
           "arrowcolor": "#2a3f5f",
           "arrowhead": 0,
           "arrowwidth": 1
          },
          "autotypenumbers": "strict",
          "coloraxis": {
           "colorbar": {
            "outlinewidth": 0,
            "ticks": ""
           }
          },
          "colorscale": {
           "diverging": [
            [
             0,
             "#8e0152"
            ],
            [
             0.1,
             "#c51b7d"
            ],
            [
             0.2,
             "#de77ae"
            ],
            [
             0.3,
             "#f1b6da"
            ],
            [
             0.4,
             "#fde0ef"
            ],
            [
             0.5,
             "#f7f7f7"
            ],
            [
             0.6,
             "#e6f5d0"
            ],
            [
             0.7,
             "#b8e186"
            ],
            [
             0.8,
             "#7fbc41"
            ],
            [
             0.9,
             "#4d9221"
            ],
            [
             1,
             "#276419"
            ]
           ],
           "sequential": [
            [
             0,
             "#0d0887"
            ],
            [
             0.1111111111111111,
             "#46039f"
            ],
            [
             0.2222222222222222,
             "#7201a8"
            ],
            [
             0.3333333333333333,
             "#9c179e"
            ],
            [
             0.4444444444444444,
             "#bd3786"
            ],
            [
             0.5555555555555556,
             "#d8576b"
            ],
            [
             0.6666666666666666,
             "#ed7953"
            ],
            [
             0.7777777777777778,
             "#fb9f3a"
            ],
            [
             0.8888888888888888,
             "#fdca26"
            ],
            [
             1,
             "#f0f921"
            ]
           ],
           "sequentialminus": [
            [
             0,
             "#0d0887"
            ],
            [
             0.1111111111111111,
             "#46039f"
            ],
            [
             0.2222222222222222,
             "#7201a8"
            ],
            [
             0.3333333333333333,
             "#9c179e"
            ],
            [
             0.4444444444444444,
             "#bd3786"
            ],
            [
             0.5555555555555556,
             "#d8576b"
            ],
            [
             0.6666666666666666,
             "#ed7953"
            ],
            [
             0.7777777777777778,
             "#fb9f3a"
            ],
            [
             0.8888888888888888,
             "#fdca26"
            ],
            [
             1,
             "#f0f921"
            ]
           ]
          },
          "colorway": [
           "#636efa",
           "#EF553B",
           "#00cc96",
           "#ab63fa",
           "#FFA15A",
           "#19d3f3",
           "#FF6692",
           "#B6E880",
           "#FF97FF",
           "#FECB52"
          ],
          "font": {
           "color": "#2a3f5f"
          },
          "geo": {
           "bgcolor": "white",
           "lakecolor": "white",
           "landcolor": "#E5ECF6",
           "showlakes": true,
           "showland": true,
           "subunitcolor": "white"
          },
          "hoverlabel": {
           "align": "left"
          },
          "hovermode": "closest",
          "mapbox": {
           "style": "light"
          },
          "paper_bgcolor": "white",
          "plot_bgcolor": "#E5ECF6",
          "polar": {
           "angularaxis": {
            "gridcolor": "white",
            "linecolor": "white",
            "ticks": ""
           },
           "bgcolor": "#E5ECF6",
           "radialaxis": {
            "gridcolor": "white",
            "linecolor": "white",
            "ticks": ""
           }
          },
          "scene": {
           "xaxis": {
            "backgroundcolor": "#E5ECF6",
            "gridcolor": "white",
            "gridwidth": 2,
            "linecolor": "white",
            "showbackground": true,
            "ticks": "",
            "zerolinecolor": "white"
           },
           "yaxis": {
            "backgroundcolor": "#E5ECF6",
            "gridcolor": "white",
            "gridwidth": 2,
            "linecolor": "white",
            "showbackground": true,
            "ticks": "",
            "zerolinecolor": "white"
           },
           "zaxis": {
            "backgroundcolor": "#E5ECF6",
            "gridcolor": "white",
            "gridwidth": 2,
            "linecolor": "white",
            "showbackground": true,
            "ticks": "",
            "zerolinecolor": "white"
           }
          },
          "shapedefaults": {
           "line": {
            "color": "#2a3f5f"
           }
          },
          "ternary": {
           "aaxis": {
            "gridcolor": "white",
            "linecolor": "white",
            "ticks": ""
           },
           "baxis": {
            "gridcolor": "white",
            "linecolor": "white",
            "ticks": ""
           },
           "bgcolor": "#E5ECF6",
           "caxis": {
            "gridcolor": "white",
            "linecolor": "white",
            "ticks": ""
           }
          },
          "title": {
           "x": 0.05
          },
          "xaxis": {
           "automargin": true,
           "gridcolor": "white",
           "linecolor": "white",
           "ticks": "",
           "title": {
            "standoff": 15
           },
           "zerolinecolor": "white",
           "zerolinewidth": 2
          },
          "yaxis": {
           "automargin": true,
           "gridcolor": "white",
           "linecolor": "white",
           "ticks": "",
           "title": {
            "standoff": 15
           },
           "zerolinecolor": "white",
           "zerolinewidth": 2
          }
         }
        }
       }
      }
     },
     "metadata": {},
     "output_type": "display_data"
    }
   ],
   "source": [
    "import plotly.express as px\n",
    "import plotly.graph_objects as go\n",
    "fig = go.Figure()\n",
    "dfplot = pd.DataFrame(\n",
    "    {\"x\": ['Gold Standard Mean', 'Imputed/Naive Mean', 'Prediction-Powered Mean'], \"y\": [285.96894409937886, 238.94750528197628, 270.2332195676906], \"ci_upper\": [confint_goldstud[1], confint[1], upbound], \"ci_lower\": [confint_goldstud[0], confint[0], upbound]}\n",
    ")\n",
    "fig.add_trace(go.Bar(\n",
    "    name='Mean',\n",
    "    x=dfplot['x'], y=dfplot['y'],\n",
    "    error_y=dict(type='data', array=[widthgold, widthnaive, widthppi])\n",
    "))"
   ]
  },
  {
   "cell_type": "code",
   "execution_count": 53,
   "metadata": {},
   "outputs": [
    {
     "data": {
      "text/plain": [
       "<Axes: ylabel='Count'>"
      ]
     },
     "execution_count": 53,
     "metadata": {},
     "output_type": "execute_result"
    },
    {
     "data": {
      "image/png": "[encoded data removed]",
      "text/plain": [
       "<Figure size 640x480 with 1 Axes>"
      ]
     },
     "metadata": {},
     "output_type": "display_data"
    }
   ],
   "source": [
    "## Calculate z-scores \n",
    "differences = []\n",
    "for i in df['Volume']:\n",
    "    diffdiff = (theta_pp_point - i)**2\n",
    "    differences = np.append(differences, diffdiff)\n",
    "sum(differences)\n",
    "sd = (sum(differences) / (len(df['Volume']) - 1))**0.5\n",
    "\n",
    "# should technically use variance of rectifier or step 4?\n",
    "zscores = []\n",
    "for i in df['Volume']:\n",
    "    diffdiff = (i - theta_pp_point) / sd\n",
    "    zscores = np.append(zscores, diffdiff)\n",
    "\n",
    "# type(zscores) # ndarray\n",
    "# z scores calculated by the ppi mean\n",
    "sns.histplot(zscores, color=\"black\")"
   ]
  },
  {
   "cell_type": "code",
   "execution_count": 54,
   "metadata": {},
   "outputs": [
    {
     "name": "stdout",
     "output_type": "stream",
     "text": [
      "The number of suspected outliers is:  108\n"
     ]
    }
   ],
   "source": [
    "## define outliers based on zscore (those with absolute value > 3) and output a list \n",
    "# calculate z score from the naive mean\n",
    "df['zscore'] = stats.zscore(df['Volume'])\n",
    "# sns.histplot(df['zscore'], color=\"black\")\n",
    "df['outliermaybe'] = (abs(df['zscore']>3).astype(int))\n",
    "outlierlist = df[df['outliermaybe'] == 1 ]\n",
    "# outliers = outlierlist['Label']\n",
    "# (df.outliermaybe.value_counts())\n",
    "number1 = len(outlierlist)\n",
    "print(\"The number of suspected outliers is: \", number1)"
   ]
  },
  {
   "cell_type": "code",
   "execution_count": 55,
   "metadata": {},
   "outputs": [],
   "source": [
    "## Define OLS and derive variance estimator (sandwich)\n",
    "# @ operator confers the dot product in numpy aka matmul\n",
    "# using the moore-penrose pseudoinverse is more sensitive to rank-deficient matrices \n",
    "# mp inverse approximates the inverse of non-invertible matrices, and if a matrix has an inverse its mp inverse = its inverse\n",
    "\n",
    "## x and y must be numpy arrays\n",
    "# the ols function below takes in ndarrays x and y and returns an ndarray betahat containing the least squares solution for the estimate of beta\n",
    "def ols(x, y):\n",
    "    # do I need to add a column of ones to x? -- yes if the goal involves estimating an intercept as well\n",
    "    xt = x.T\n",
    "    # a = xt @ xt \n",
    "    a = xt @ x\n",
    "    betahat = linalg.pinv(a) @ xt @ y\n",
    "    # beta = (x.transpose() * x.transpose()).linalg.inv() * y\n",
    "    return(betahat)\n",
    "\n",
    "# define estimator of the variance term \n",
    "def resi(x, y, betahat):\n",
    "    # calculate residual \n",
    "    n = len(x)\n",
    "    resi = y - x @ betahat\n",
    "    # define sigma squared as the variance of the normal error term\n",
    "    # finite sample assumption?\n",
    "    sigmahat = sum(resi ** 2) / (n - 1)\n",
    "    # would this be realistically (n - 1 - 1) because p = 1\n",
    "    return(sigmahat)"
   ]
  }
 ],
 "metadata": {
  "kernelspec": {
   "display_name": "base",
   "language": "python",
   "name": "python3"
  },
  "language_info": {
   "codemirror_mode": {
    "name": "ipython",
    "version": 3
   },
   "file_extension": ".py",
   "mimetype": "text/x-python",
   "name": "python",
   "nbconvert_exporter": "python",
   "pygments_lexer": "ipython3",
   "version": "3.9.16"
  },
  "orig_nbformat": 4
 },
 "nbformat": 4,
 "nbformat_minor": 2
}
